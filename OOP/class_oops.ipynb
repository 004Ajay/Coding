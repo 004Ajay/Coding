{
 "cells": [
  {
   "cell_type": "code",
   "execution_count": null,
   "id": "9819d847",
   "metadata": {},
   "outputs": [],
   "source": [
    "# Write a class Rectangle with:\n",
    "\n",
    "# Constructor taking length and width\n",
    "\n",
    "# Method to calculate area\n",
    "\n",
    "# Method to calculate perimeter\n",
    "\n",
    "# Print results for 2 different rectangles "
   ]
  },
  {
   "cell_type": "code",
   "execution_count": 14,
   "id": "88a973ed",
   "metadata": {},
   "outputs": [
    {
     "name": "stdout",
     "output_type": "stream",
     "text": [
      "Red Rectangle Area: 50\n",
      "Red Rectangle Perimeter: 30\n",
      "Black Rectangle Area: 35\n",
      "Black Rectangle Perimeter: 24\n"
     ]
    }
   ],
   "source": [
    "class Rectangle():\n",
    "    def __init__(self, length, width):\n",
    "        self.length = length \n",
    "        self.width = width \n",
    "\n",
    "    def calc_rect_area(self):\n",
    "        return self.length * self.width\n",
    "    \n",
    "    def calc_rect_perimeter(self):\n",
    "        return 2 * (self.length + self.width)    \n",
    "    \n",
    "red_rect = Rectangle(10, 5)\n",
    "black_rect = Rectangle(5, 7)\n",
    "\n",
    "print(\"Red Rectangle Area:\", red_rect.calc_rect_area())\n",
    "print(\"Red Rectangle Perimeter:\", red_rect.calc_rect_perimeter())\n",
    "\n",
    "print(\"Black Rectangle Area:\", black_rect.calc_rect_area())\n",
    "print(\"Black Rectangle Perimeter:\", black_rect.calc_rect_perimeter())    "
   ]
  },
  {
   "cell_type": "code",
   "execution_count": null,
   "metadata": {},
   "outputs": [
    {
     "name": "stdout",
     "output_type": "stream",
     "text": [
      "Red Rectangle Area: 50\n",
      "Red Rectangle Perimeter: 30\n",
      "Black Rectangle Area: 35\n",
      "Black Rectangle Perimeter: 24\n"
     ]
    }
   ],
   "source": []
  },
  {
   "cell_type": "code",
   "execution_count": null,
   "id": "19da8e74",
   "metadata": {},
   "outputs": [],
   "source": []
  }
 ],
 "metadata": {
  "kernelspec": {
   "display_name": "Python 3",
   "language": "python",
   "name": "python3"
  },
  "language_info": {
   "codemirror_mode": {
    "name": "ipython",
    "version": 3
   },
   "file_extension": ".py",
   "mimetype": "text/x-python",
   "name": "python",
   "nbconvert_exporter": "python",
   "pygments_lexer": "ipython3",
   "version": "3.12.10"
  }
 },
 "nbformat": 4,
 "nbformat_minor": 5
}
